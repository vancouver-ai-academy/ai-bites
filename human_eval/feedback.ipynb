{
 "cells": [
  {
   "cell_type": "code",
   "execution_count": 1,
   "metadata": {},
   "outputs": [],
   "source": [
    "import os\n",
    "import pandas as pd \n",
    "import json \n",
    "\n",
    "def load_json(path):\n",
    "    with open(path, \"r\") as f:\n",
    "        return json.load(f)\n",
    "\n",
    "# loop over results\n",
    "path = \"/mnt/home/projects/ai-bites/human_eval/results\"\n",
    "result_list = []\n",
    "for filename in os.listdir(path):\n",
    "    fname = os.path.join(path, filename, \"model_a.json\")\n",
    "    feedback_fname = os.path.join(path, filename, \"feedback.json\")\n",
    "\n",
    "    if os.path.exists(feedback_fname):\n",
    "        result = load_json(fname)\n",
    "        feedback = load_json(feedback_fname)\n",
    "        result_dict = {\"model_output\": result, \"feedback\": feedback}\n",
    "        result_list += [result_dict]\n",
    "\n",
    "# print(result_list)"
   ]
  },
  {
   "cell_type": "code",
   "execution_count": 2,
   "metadata": {},
   "outputs": [
    {
     "data": {
      "text/plain": [
       "<Axes: >"
      ]
     },
     "execution_count": 2,
     "metadata": {},
     "output_type": "execute_result"
    },
    {
     "data": {
      "image/png": "[encoded data removed]",
      "text/plain": [
       "<Figure size 432x288 with 1 Axes>"
      ]
     },
     "metadata": {
      "needs_background": "light"
     },
     "output_type": "display_data"
    }
   ],
   "source": [
    "df = pd.DataFrame([r['feedback'] for r in result_list])\n",
    "df['chosen'].hist()"
   ]
  },
  {
   "cell_type": "code",
   "execution_count": 14,
   "metadata": {},
   "outputs": [
    {
     "data": {
      "text/html": [
       "<div>\n",
       "<style scoped>\n",
       "    .dataframe tbody tr th:only-of-type {\n",
       "        vertical-align: middle;\n",
       "    }\n",
       "\n",
       "    .dataframe tbody tr th {\n",
       "        vertical-align: top;\n",
       "    }\n",
       "\n",
       "    .dataframe thead th {\n",
       "        text-align: right;\n",
       "    }\n",
       "</style>\n",
       "<table border=\"1\" class=\"dataframe\">\n",
       "  <thead>\n",
       "    <tr style=\"text-align: right;\">\n",
       "      <th></th>\n",
       "      <th>chosen</th>\n",
       "      <th>comment</th>\n",
       "      <th>timestamp</th>\n",
       "      <th>question</th>\n",
       "      <th>choice</th>\n",
       "    </tr>\n",
       "  </thead>\n",
       "  <tbody>\n",
       "    <tr>\n",
       "      <th>0</th>\n",
       "      <td>yes</td>\n",
       "      <td>this is good</td>\n",
       "      <td>1727287036551341</td>\n",
       "      <td>Is the output reasonable based on the instruct...</td>\n",
       "      <td>NaN</td>\n",
       "    </tr>\n",
       "    <tr>\n",
       "      <th>1</th>\n",
       "      <td>no</td>\n",
       "      <td>not logical</td>\n",
       "      <td>17272870525248497</td>\n",
       "      <td>Is the output reasonable based on the instruct...</td>\n",
       "      <td>NaN</td>\n",
       "    </tr>\n",
       "    <tr>\n",
       "      <th>2</th>\n",
       "      <td>yes</td>\n",
       "      <td>this</td>\n",
       "      <td>17272870808938208</td>\n",
       "      <td>Is the output reasonable based on the instruct...</td>\n",
       "      <td>NaN</td>\n",
       "    </tr>\n",
       "    <tr>\n",
       "      <th>3</th>\n",
       "      <td>NaN</td>\n",
       "      <td></td>\n",
       "      <td>NaN</td>\n",
       "      <td>NaN</td>\n",
       "      <td></td>\n",
       "    </tr>\n",
       "  </tbody>\n",
       "</table>\n",
       "</div>"
      ],
      "text/plain": [
       "  chosen       comment          timestamp  \\\n",
       "0    yes  this is good   1727287036551341   \n",
       "1     no   not logical  17272870525248497   \n",
       "2    yes          this  17272870808938208   \n",
       "3    NaN                              NaN   \n",
       "\n",
       "                                            question choice  \n",
       "0  Is the output reasonable based on the instruct...    NaN  \n",
       "1  Is the output reasonable based on the instruct...    NaN  \n",
       "2  Is the output reasonable based on the instruct...    NaN  \n",
       "3                                                NaN         "
      ]
     },
     "execution_count": 14,
     "metadata": {},
     "output_type": "execute_result"
    }
   ],
   "source": [
    "df"
   ]
  }
 ],
 "metadata": {
  "kernelspec": {
   "display_name": "Python 3",
   "language": "python",
   "name": "python3"
  },
  "language_info": {
   "codemirror_mode": {
    "name": "ipython",
    "version": 3
   },
   "file_extension": ".py",
   "mimetype": "text/x-python",
   "name": "python",
   "nbconvert_exporter": "python",
   "pygments_lexer": "ipython3",
   "version": "3.8.5"
  }
 },
 "nbformat": 4,
 "nbformat_minor": 2
}
